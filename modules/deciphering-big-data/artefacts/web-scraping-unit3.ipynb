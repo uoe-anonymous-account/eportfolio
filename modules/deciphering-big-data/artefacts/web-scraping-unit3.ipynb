{
 "cells": [
  {
   "cell_type": "code",
   "execution_count": 14,
   "id": "881e07eb-bead-477a-8b96-64029454d877",
   "metadata": {},
   "outputs": [
    {
     "name": "stdout",
     "output_type": "stream",
     "text": [
      "Files saved successfully with title, summary, and headings(data_science.json and data_science.xml).\n"
     ]
    }
   ],
   "source": [
    "import requests\n",
    "from bs4 import BeautifulSoup\n",
    "import json\n",
    "import xml.etree.ElementTree as ET\n",
    "\n",
    "url = \"https://en.wikipedia.org/wiki/Data_science\"\n",
    "\n",
    "# Extracting header from Wiki Page\n",
    "headers = {\"User-Agent\": \"Mozilla/5.0 (Windows NT 10.0; Win64; x64)\"}\n",
    "response = requests.get(url, headers=headers)\n",
    "\n",
    "soup = BeautifulSoup(response.text, \"html.parser\")\n",
    "\n",
    "# Extracting title from Wiki Page\n",
    "title_tag = soup.find(\"h1\", id=\"firstHeading\")\n",
    "title = title_tag.text.strip() if title_tag else \"Unknown Title\"\n",
    "\n",
    "# Extracting the first paragraph from Wiki Page\n",
    "intro_paragraph = \"\"\n",
    "for p in soup.select(\"p\"):\n",
    "    if p.text.strip():\n",
    "        intro_paragraph = p.text.strip()\n",
    "        break\n",
    "\n",
    "# Extracting section headings from Wiki Page\n",
    "headings = [h.get_text(strip=True) for h in soup.find_all([\"h2\", \"h3\"]) if h.get_text(strip=True)]\n",
    "\n",
    "data = {\n",
    "    \"page_title\": title,\n",
    "    \"summary\": intro_paragraph,\n",
    "    \"headings\": headings\n",
    "}\n",
    "\n",
    "# Saving data as JSON file\n",
    "with open(\"data_science.json\", \"w\", encoding=\"utf-8\") as f:\n",
    "    json.dump(data, f, indent=2, ensure_ascii=False)\n",
    "\n",
    "# Save data as XML file to be viewed in browser\n",
    "root = ET.Element(\"article\", title=title)\n",
    "ET.SubElement(root, \"summary\").text = intro_paragraph\n",
    "sections = ET.SubElement(root, \"sections\")\n",
    "for h in headings:\n",
    "    ET.SubElement(sections, \"heading\").text = h\n",
    "ET.ElementTree(root).write(\"data_science.xml\", encoding=\"utf-8\", xml_declaration=True)\n",
    "\n",
    "print(\"Files saved successfully with title, summary, and headings(data_science.json and data_science.xml).\")\n"
   ]
  },
  {
   "cell_type": "code",
   "execution_count": null,
   "id": "a5dd3334-9099-481a-ba4a-f44a7570a4c5",
   "metadata": {},
   "outputs": [],
   "source": []
  }
 ],
 "metadata": {
  "kernelspec": {
   "display_name": "Python 3 (ipykernel)",
   "language": "python",
   "name": "python3"
  },
  "language_info": {
   "codemirror_mode": {
    "name": "ipython",
    "version": 3
   },
   "file_extension": ".py",
   "mimetype": "text/x-python",
   "name": "python",
   "nbconvert_exporter": "python",
   "pygments_lexer": "ipython3",
   "version": "3.14.0"
  }
 },
 "nbformat": 4,
 "nbformat_minor": 5
}
